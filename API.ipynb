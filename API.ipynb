{
 "cells": [
  {
   "cell_type": "markdown",
   "metadata": {},
   "source": [
    "On enregistre le Headers pour pouvoir utiliser CalorieNinjas avec mon compte"
   ]
  },
  {
   "cell_type": "code",
   "execution_count": 99,
   "metadata": {},
   "outputs": [],
   "source": [
    "import requests\n",
    "\n",
    "headers = {\"X-Api-Key\": \"h8Atncs0v4pQSKs4Ub3ANw==rxKCAq5vT6VSp2QH\"}"
   ]
  },
  {
   "cell_type": "markdown",
   "metadata": {},
   "source": [
    "Traduction du repas du français à l'anglais"
   ]
  },
  {
   "cell_type": "code",
   "execution_count": 100,
   "metadata": {},
   "outputs": [
    {
     "name": "stdout",
     "output_type": "stream",
     "text": [
      "ribs with salad and fries\n"
     ]
    }
   ],
   "source": [
    "from deep_translator import GoogleTranslator\n",
    "\n",
    "mon_repas = \"des ribs avec de la salade et des frites\"\n",
    "mon_repas_en = GoogleTranslator(source=\"fr\", target=\"en\").translate(mon_repas)\n",
    "print(mon_repas_en)"
   ]
  },
  {
   "cell_type": "markdown",
   "metadata": {},
   "source": [
    "On fait un requête simple avec description de ce que j'ai mangé"
   ]
  },
  {
   "cell_type": "code",
   "execution_count": 101,
   "metadata": {},
   "outputs": [
    {
     "name": "stdout",
     "output_type": "stream",
     "text": [
      "<Response [200]>\n",
      "{'items': [{'sugar_g': 0.0, 'fiber_g': 0.0, 'serving_size_g': 100.0, 'sodium_mg': 91, 'name': 'ribs', 'potassium_mg': 159, 'fat_saturated_g': 9.2, 'fat_total_g': 30.9, 'calories': 361.3, 'cholesterol_mg': 103, 'protein_g': 21.1, 'carbohydrates_total_g': 0.0}, {'sugar_g': 2.2, 'fiber_g': 1.9, 'serving_size_g': 100.0, 'sodium_mg': 36, 'name': 'salad', 'potassium_mg': 32, 'fat_saturated_g': 0.0, 'fat_total_g': 0.2, 'calories': 23.6, 'cholesterol_mg': 0, 'protein_g': 1.5, 'carbohydrates_total_g': 4.9}, {'sugar_g': 0.3, 'fiber_g': 3.8, 'serving_size_g': 100.0, 'sodium_mg': 212, 'name': 'fries', 'potassium_mg': 124, 'fat_saturated_g': 2.3, 'fat_total_g': 14.8, 'calories': 317.7, 'cholesterol_mg': 0, 'protein_g': 3.4, 'carbohydrates_total_g': 41.1}]}\n"
     ]
    }
   ],
   "source": [
    "url = \"https://api.calorieninjas.com/v1/nutrition?query=\"\n",
    "\n",
    "repas_01 = requests.get(url + mon_repas_en, headers=headers)\n",
    "\n",
    "print(repas_01)\n",
    "print(repas_01.json())"
   ]
  },
  {
   "cell_type": "markdown",
   "metadata": {},
   "source": [
    "On fait requête avec photo de notre menu"
   ]
  },
  {
   "cell_type": "code",
   "execution_count": 66,
   "metadata": {},
   "outputs": [
    {
     "name": "stdout",
     "output_type": "stream",
     "text": [
      "<Response [200]>\n",
      "{'items': [{'sugar_g': 0.0, 'fiber_g': 0.0, 'serving_size_g': 100.0, 'sodium_mg': 53, 'name': 'filet', 'potassium_mg': 206, 'fat_saturated_g': 6.8, 'fat_total_g': 17.1, 'calories': 272.6, 'cholesterol_mg': 96, 'protein_g': 26.4, 'carbohydrates_total_g': 0.0}, {'sugar_g': 0.0, 'fiber_g': 0.0, 'serving_size_g': 100.0, 'sodium_mg': 53, 'name': 'filet', 'potassium_mg': 206, 'fat_saturated_g': 6.8, 'fat_total_g': 17.1, 'calories': 272.6, 'cholesterol_mg': 96, 'protein_g': 26.4, 'carbohydrates_total_g': 0.0}, {'sugar_g': 5.0, 'fiber_g': 1.8, 'serving_size_g': 100.0, 'sodium_mg': 438, 'name': 'sauce', 'potassium_mg': 34, 'fat_saturated_g': 0.2, 'fat_total_g': 1.6, 'calories': 48.8, 'cholesterol_mg': 2, 'protein_g': 1.4, 'carbohydrates_total_g': 7.5}, {'sugar_g': 57.3, 'fiber_g': 0.0, 'serving_size_g': 100.0, 'sodium_mg': 340, 'name': 'caramel', 'potassium_mg': 38, 'fat_saturated_g': 0.0, 'fat_total_g': 0.0, 'calories': 215.8, 'cholesterol_mg': 0, 'protein_g': 1.2, 'carbohydrates_total_g': 57.3}, {'sugar_g': 51.9, 'fiber_g': 3.4, 'serving_size_g': 100.0, 'sodium_mg': 78, 'name': 'chocolat', 'potassium_mg': 211, 'fat_saturated_g': 18.6, 'fat_total_g': 30.2, 'calories': 536.7, 'cholesterol_mg': 22, 'protein_g': 7.7, 'carbohydrates_total_g': 60.3}]}\n"
     ]
    }
   ],
   "source": [
    "url = \"https://api.calorieninjas.com/v1/imagetextnutrition\"\n",
    "\n",
    "mon_menu_image = open(\"menu.jpeg\", \"rb\")\n",
    "files = {\"media\":mon_menu_image}\n",
    "menu_01 = requests.post(url, files=files, headers=headers)\n",
    "\n",
    "print(menu_01)\n",
    "print(menu_01.json())"
   ]
  },
  {
   "cell_type": "markdown",
   "metadata": {},
   "source": [
    "Dictionnaire de standard des apports journaliers"
   ]
  },
  {
   "cell_type": "code",
   "execution_count": 60,
   "metadata": {},
   "outputs": [],
   "source": [
    "dico_homme = {\"calories\":2500, \"fat_saturated_g\": 25, \"cholesterol_mg\":300, \"sodium_mg\":1300, \"carbohydrates_total_g\":300, \"fiber_g\":30,\"sugar_g\":30,\"protein_g\":75}\n",
    "dico_femme = {\"calories\":2000, \"fat_saturated_g\":21, \"cholesterol_mg\":300, \"sodium_mg\":1300, \"carbohydrates_total_g\":240,\"fiber_g\":30,\"sugar_g\":30, \"protein_g\":50}"
   ]
  },
  {
   "cell_type": "markdown",
   "metadata": {},
   "source": [
    "Je me balade dans mon résultat pour construire ma fonction"
   ]
  },
  {
   "cell_type": "code",
   "execution_count": 123,
   "metadata": {},
   "outputs": [
    {
     "name": "stdout",
     "output_type": "stream",
     "text": [
      "{'items': [{'sugar_g': 0.0, 'fiber_g': 0.0, 'serving_size_g': 100.0, 'sodium_mg': 91, 'name': 'ribs', 'potassium_mg': 159, 'fat_saturated_g': 9.2, 'fat_total_g': 30.9, 'calories': 361.3, 'cholesterol_mg': 103, 'protein_g': 21.1, 'carbohydrates_total_g': 0.0}, {'sugar_g': 2.2, 'fiber_g': 1.9, 'serving_size_g': 100.0, 'sodium_mg': 36, 'name': 'salad', 'potassium_mg': 32, 'fat_saturated_g': 0.0, 'fat_total_g': 0.2, 'calories': 23.6, 'cholesterol_mg': 0, 'protein_g': 1.5, 'carbohydrates_total_g': 4.9}, {'sugar_g': 0.3, 'fiber_g': 3.8, 'serving_size_g': 100.0, 'sodium_mg': 212, 'name': 'fries', 'potassium_mg': 124, 'fat_saturated_g': 2.3, 'fat_total_g': 14.8, 'calories': 317.7, 'cholesterol_mg': 0, 'protein_g': 3.4, 'carbohydrates_total_g': 41.1}]}\n",
      "salad\n",
      "['ribs', 'salad', 'fries']\n"
     ]
    }
   ],
   "source": [
    "x=repas_01.json()\n",
    "print(x)\n",
    "y=x[\"items\"]\n",
    "print(y[1][\"name\"])\n",
    "\n",
    "# print(y)\n",
    "# for i in y:\n",
    "#     print(i[\"name\"], i[\"calories\"], i[\"fat_saturated_g\"], i[\"cholesterol_mg\"], i[\"sodium_mg\"], i[\"carbohydrates_total_g\"], i[\"fiber_g\"], i[\"sugar_g\"], i[\"protein_g\"])\n",
    "\n",
    "###\n",
    "short_list = []\n",
    "for i in y:\n",
    "    short_list.append(i[\"name\"])\n",
    "\n",
    "print(short_list)"
   ]
  },
  {
   "cell_type": "markdown",
   "metadata": {},
   "source": [
    "Fonction apports journaliers pour un repas déclaré (en construction)"
   ]
  },
  {
   "cell_type": "code",
   "execution_count": 65,
   "metadata": {},
   "outputs": [
    {
     "data": {
      "text/plain": [
       "{'items': [{'sugar_g': 4.2,\n",
       "   'fiber_g': 0.9,\n",
       "   'serving_size_g': 100.0,\n",
       "   'sodium_mg': 413,\n",
       "   'name': 'double hamburger',\n",
       "   'potassium_mg': 133,\n",
       "   'fat_saturated_g': 5.1,\n",
       "   'fat_total_g': 14.4,\n",
       "   'calories': 302.0,\n",
       "   'cholesterol_mg': 46,\n",
       "   'protein_g': 17.0,\n",
       "   'carbohydrates_total_g': 24.4},\n",
       "  {'sugar_g': 0.3,\n",
       "   'fiber_g': 3.8,\n",
       "   'serving_size_g': 100.0,\n",
       "   'sodium_mg': 212,\n",
       "   'name': 'fries',\n",
       "   'potassium_mg': 124,\n",
       "   'fat_saturated_g': 2.3,\n",
       "   'fat_total_g': 14.8,\n",
       "   'calories': 317.7,\n",
       "   'cholesterol_mg': 0,\n",
       "   'protein_g': 3.4,\n",
       "   'carbohydrates_total_g': 41.1},\n",
       "  {'sugar_g': 0.6,\n",
       "   'fiber_g': 0.0,\n",
       "   'serving_size_g': 100.0,\n",
       "   'sodium_mg': 626,\n",
       "   'name': 'mayonnaise',\n",
       "   'potassium_mg': 20,\n",
       "   'fat_saturated_g': 11.8,\n",
       "   'fat_total_g': 74.7,\n",
       "   'calories': 689.3,\n",
       "   'cholesterol_mg': 41,\n",
       "   'protein_g': 0.9,\n",
       "   'carbohydrates_total_g': 0.6}]}"
      ]
     },
     "execution_count": 65,
     "metadata": {},
     "output_type": "execute_result"
    }
   ],
   "source": [
    "def ma_conso (repas):\n",
    "    import requests\n",
    "    headers = {\"X-Api-Key\": \"h8Atncs0v4pQSKs4Ub3ANw==rxKCAq5vT6VSp2QH\"}\n",
    "    from deep_translator import GoogleTranslator\n",
    "    repas_en = GoogleTranslator(source=\"fr\", target=\"en\").translate(repas)\n",
    "    url = \"https://api.calorieninjas.com/v1/nutrition?query=\"\n",
    "    apports_repas = requests.get(url + repas_en, headers=headers)\n",
    "    return apports_repas.json()\n",
    "\n",
    "\n",
    "menu = \"un double hamburger avec supplément frite et mayonnaise\"\n",
    "ma_conso(menu)"
   ]
  },
  {
   "cell_type": "code",
   "execution_count": null,
   "metadata": {},
   "outputs": [],
   "source": []
  }
 ],
 "metadata": {
  "kernelspec": {
   "display_name": "Python 3.10.6 64-bit",
   "language": "python",
   "name": "python3"
  },
  "language_info": {
   "codemirror_mode": {
    "name": "ipython",
    "version": 3
   },
   "file_extension": ".py",
   "mimetype": "text/x-python",
   "name": "python",
   "nbconvert_exporter": "python",
   "pygments_lexer": "ipython3",
   "version": "3.10.6"
  },
  "orig_nbformat": 4,
  "vscode": {
   "interpreter": {
    "hash": "916dbcbb3f70747c44a77c7bcd40155683ae19c65e1c03b4aa3499c5328201f1"
   }
  }
 },
 "nbformat": 4,
 "nbformat_minor": 2
}
