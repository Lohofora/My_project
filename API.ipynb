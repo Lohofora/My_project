{
 "cells": [
  {
   "cell_type": "markdown",
   "metadata": {},
   "source": [
    "On enregistre le Headers pour pouvoir utiliser CalorieNinjas avec mon compte"
   ]
  },
  {
   "cell_type": "code",
   "execution_count": 14,
   "metadata": {},
   "outputs": [],
   "source": [
    "import requests\n",
    "\n",
    "headers = {\"X-Api-Key\": \"h8Atncs0v4pQSKs4Ub3ANw==rxKCAq5vT6VSp2QH\"}"
   ]
  },
  {
   "cell_type": "markdown",
   "metadata": {},
   "source": [
    "Traduction du repas du français à l'anglais"
   ]
  },
  {
   "cell_type": "code",
   "execution_count": 31,
   "metadata": {},
   "outputs": [
    {
     "name": "stdout",
     "output_type": "stream",
     "text": [
      "a double hamburger with extra fries and mayonnaise\n"
     ]
    }
   ],
   "source": [
    "from deep_translator import GoogleTranslator\n",
    "\n",
    "mon_repas = \"un double hamburger avec supplément frite et mayonnaise\"\n",
    "mon_repas_en = GoogleTranslator(source=\"fr\", target=\"en\").translate(mon_repas)\n",
    "print(mon_repas_en)"
   ]
  },
  {
   "cell_type": "markdown",
   "metadata": {},
   "source": [
    "On fait un requête simple avec description de ce que j'ai mangé"
   ]
  },
  {
   "cell_type": "code",
   "execution_count": 33,
   "metadata": {},
   "outputs": [
    {
     "name": "stdout",
     "output_type": "stream",
     "text": [
      "<Response [200]>\n",
      "{'items': [{'sugar_g': 4.2, 'fiber_g': 0.9, 'serving_size_g': 100.0, 'sodium_mg': 413, 'name': 'double hamburger', 'potassium_mg': 133, 'fat_saturated_g': 5.1, 'fat_total_g': 14.4, 'calories': 302.0, 'cholesterol_mg': 46, 'protein_g': 17.0, 'carbohydrates_total_g': 24.4}, {'sugar_g': 0.3, 'fiber_g': 3.8, 'serving_size_g': 100.0, 'sodium_mg': 212, 'name': 'fries', 'potassium_mg': 124, 'fat_saturated_g': 2.3, 'fat_total_g': 14.8, 'calories': 317.7, 'cholesterol_mg': 0, 'protein_g': 3.4, 'carbohydrates_total_g': 41.1}, {'sugar_g': 0.6, 'fiber_g': 0.0, 'serving_size_g': 100.0, 'sodium_mg': 626, 'name': 'mayonnaise', 'potassium_mg': 20, 'fat_saturated_g': 11.8, 'fat_total_g': 74.7, 'calories': 689.3, 'cholesterol_mg': 41, 'protein_g': 0.9, 'carbohydrates_total_g': 0.6}]}\n"
     ]
    }
   ],
   "source": [
    "url = \"https://api.calorieninjas.com/v1/nutrition?query=\"\n",
    "\n",
    "repas_01 = requests.get(url + mon_repas_en, headers=headers)\n",
    "\n",
    "print(repas_01)\n",
    "print(repas_01.json())"
   ]
  },
  {
   "cell_type": "markdown",
   "metadata": {},
   "source": [
    "On fait requête avec photo de notre menu"
   ]
  },
  {
   "cell_type": "code",
   "execution_count": 36,
   "metadata": {},
   "outputs": [
    {
     "name": "stdout",
     "output_type": "stream",
     "text": [
      "<Response [200]>\n",
      "{'items': [{'sugar_g': 0.0, 'fiber_g': 0.0, 'serving_size_g': 100.0, 'sodium_mg': 53, 'name': 'filet', 'potassium_mg': 206, 'fat_saturated_g': 6.8, 'fat_total_g': 17.1, 'calories': 272.6, 'cholesterol_mg': 96, 'protein_g': 26.4, 'carbohydrates_total_g': 0.0}, {'sugar_g': 0.0, 'fiber_g': 0.0, 'serving_size_g': 100.0, 'sodium_mg': 53, 'name': 'filet', 'potassium_mg': 206, 'fat_saturated_g': 6.8, 'fat_total_g': 17.1, 'calories': 272.6, 'cholesterol_mg': 96, 'protein_g': 26.4, 'carbohydrates_total_g': 0.0}, {'sugar_g': 5.0, 'fiber_g': 1.8, 'serving_size_g': 100.0, 'sodium_mg': 438, 'name': 'sauce', 'potassium_mg': 34, 'fat_saturated_g': 0.2, 'fat_total_g': 1.6, 'calories': 48.8, 'cholesterol_mg': 2, 'protein_g': 1.4, 'carbohydrates_total_g': 7.5}, {'sugar_g': 57.3, 'fiber_g': 0.0, 'serving_size_g': 100.0, 'sodium_mg': 340, 'name': 'caramel', 'potassium_mg': 38, 'fat_saturated_g': 0.0, 'fat_total_g': 0.0, 'calories': 215.8, 'cholesterol_mg': 0, 'protein_g': 1.2, 'carbohydrates_total_g': 57.3}, {'sugar_g': 51.9, 'fiber_g': 3.4, 'serving_size_g': 100.0, 'sodium_mg': 78, 'name': 'chocolat', 'potassium_mg': 211, 'fat_saturated_g': 18.6, 'fat_total_g': 30.2, 'calories': 536.7, 'cholesterol_mg': 22, 'protein_g': 7.7, 'carbohydrates_total_g': 60.3}]}\n"
     ]
    }
   ],
   "source": [
    "url = \"https://api.calorieninjas.com/v1/imagetextnutrition\"\n",
    "\n",
    "mon_menu_image = open(\"menu.jpeg\", \"rb\")\n",
    "files = {\"media\":mon_menu_image}\n",
    "menu_01 = requests.post(url, files=files, headers=headers)\n",
    "\n",
    "print(menu_01)\n",
    "print(menu_01.json())"
   ]
  },
  {
   "cell_type": "markdown",
   "metadata": {},
   "source": [
    "On veut proposition de menu pour de la menthe"
   ]
  },
  {
   "cell_type": "code",
   "execution_count": 41,
   "metadata": {},
   "outputs": [
    {
     "name": "stdout",
     "output_type": "stream",
     "text": [
      "mint\n",
      "<Response [502]>\n",
      "{'message': 'Internal server error'}\n"
     ]
    }
   ],
   "source": [
    "from deep_translator import GoogleTranslator\n",
    "\n",
    "ingredients = \"menthe\"\n",
    "ingredients_en = GoogleTranslator(source=\"fr\", target=\"en\").translate(ingredients)\n",
    "print(ingredients_en)\n",
    "\n",
    "url = \"https://api.calorieninjas.com/v1/recipe?query=\"\n",
    "\n",
    "recettes = requests.get(url + ingredients_en, headers=headers)\n",
    "\n",
    "print(recettes)\n",
    "print(recettes.json())"
   ]
  }
 ],
 "metadata": {
  "kernelspec": {
   "display_name": "Python 3.10.6 64-bit",
   "language": "python",
   "name": "python3"
  },
  "language_info": {
   "codemirror_mode": {
    "name": "ipython",
    "version": 3
   },
   "file_extension": ".py",
   "mimetype": "text/x-python",
   "name": "python",
   "nbconvert_exporter": "python",
   "pygments_lexer": "ipython3",
   "version": "3.10.6"
  },
  "orig_nbformat": 4,
  "vscode": {
   "interpreter": {
    "hash": "916dbcbb3f70747c44a77c7bcd40155683ae19c65e1c03b4aa3499c5328201f1"
   }
  }
 },
 "nbformat": 4,
 "nbformat_minor": 2
}
